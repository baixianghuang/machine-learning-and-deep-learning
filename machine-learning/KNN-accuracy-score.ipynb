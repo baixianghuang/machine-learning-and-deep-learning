{
 "cells": [
  {
   "cell_type": "code",
   "execution_count": 1,
   "metadata": {},
   "outputs": [],
   "source": [
    "import numpy as np\n",
    "import matplotlib.pyplot as plt\n",
    "from sklearn import datasets"
   ]
  },
  {
   "cell_type": "code",
   "execution_count": 3,
   "metadata": {},
   "outputs": [],
   "source": [
    "digits = datasets.load_digits()\n",
    "X = digits.data\n",
    "y = digits.target"
   ]
  },
  {
   "cell_type": "code",
   "execution_count": 4,
   "metadata": {
    "scrolled": true
   },
   "outputs": [
    {
     "name": "stdout",
     "output_type": "stream",
     "text": [
      "(1437, 64) (1437,)\n",
      "(360, 64) (360,)\n"
     ]
    },
    {
     "data": {
      "text/plain": [
       "0.9861111111111112"
      ]
     },
     "execution_count": 4,
     "metadata": {},
     "output_type": "execute_result"
    }
   ],
   "source": [
    "from sklearn.model_selection import train_test_split\n",
    "from sklearn.neighbors import KNeighborsClassifier\n",
    "X_train, X_test, y_train, y_test = train_test_split(X, y, test_size = 0.2, random_state = 600)\n",
    "print(X_train.shape, y_train.shape)\n",
    "print(X_test.shape, y_test.shape)\n",
    "knn_clf = KNeighborsClassifier(n_neighbors = 4, weights=\"uniform\")\n",
    "knn_clf.fit(X_train, y_train)\n",
    "knn_clf.score(X_test, y_test)"
   ]
  },
  {
   "cell_type": "markdown",
   "metadata": {},
   "source": [
    "## Adjust parameter and measure performance"
   ]
  },
  {
   "cell_type": "code",
   "execution_count": 6,
   "metadata": {},
   "outputs": [
    {
     "name": "stdout",
     "output_type": "stream",
     "text": [
      "5 0.9888888888888889\n"
     ]
    }
   ],
   "source": [
    "# Which k (number of neighbors) yield better performance\n",
    "best_score = 0.0\n",
    "best_k = -1\n",
    "for k in range(1, 11):\n",
    "    knn_clf = KNeighborsClassifier(n_neighbors = k)\n",
    "    knn_clf.fit(X_train, y_train)\n",
    "    score = knn_clf.score(X_test, y_test)\n",
    "    if score > best_score:\n",
    "        best_score = score\n",
    "        best_k = k\n",
    "\n",
    "print(best_k, best_score)"
   ]
  },
  {
   "cell_type": "code",
   "execution_count": 7,
   "metadata": {},
   "outputs": [
    {
     "name": "stdout",
     "output_type": "stream",
     "text": [
      "5 distance 0.9888888888888889\n"
     ]
    }
   ],
   "source": [
    "# Whether assigning weights to points\n",
    "best_score = 0.0\n",
    "best_k = -1\n",
    "for method in [\"uniform\", \"distance\"]:\n",
    "    for k in range(1, 11):\n",
    "        knn_clf = KNeighborsClassifier(n_neighbors = k, weights = method)\n",
    "        knn_clf.fit(X_train, y_train)\n",
    "        score = knn_clf.score(X_test, y_test)\n",
    "        if score > best_score:\n",
    "            best_score = score\n",
    "            best_k = k\n",
    "\n",
    "print(best_k, method, best_score)"
   ]
  },
  {
   "cell_type": "code",
   "execution_count": 8,
   "metadata": {},
   "outputs": [
    {
     "name": "stdout",
     "output_type": "stream",
     "text": [
      "CPU times: user 3 µs, sys: 0 ns, total: 3 µs\n",
      "Wall time: 5.01 µs\n",
      "5 2 0.9888888888888889\n"
     ]
    }
   ],
   "source": [
    "# Which p for minkowski distance yields better performance\n",
    "%time\n",
    "best_score = 0.0\n",
    "best_k = -1\n",
    "best_p = -1\n",
    "\n",
    "for p in range(1, 6):\n",
    "    for k in range(1, 11):\n",
    "        knn_clf = KNeighborsClassifier(n_neighbors = k, weights = \"distance\", p = p)\n",
    "        knn_clf.fit(X_train, y_train)\n",
    "        score = knn_clf.score(X_test, y_test)\n",
    "        if score > best_score:\n",
    "            best_score = score\n",
    "            best_k = k\n",
    "            best_p = p\n",
    "\n",
    "print(best_k, best_p, best_score)"
   ]
  },
  {
   "cell_type": "markdown",
   "metadata": {},
   "source": [
    " ## Grid search: a more convenient to find optimal combination of parameters"
   ]
  },
  {
   "cell_type": "code",
   "execution_count": 12,
   "metadata": {},
   "outputs": [],
   "source": [
    "param_grid = [\n",
    "    {\n",
    "        'weights': ['uniform'],\n",
    "        'n_neighbors': [i for i in range(1, 11)]\n",
    "    },\n",
    "    {\n",
    "        'weights': ['distance'],\n",
    "        'n_neighbors': [i for i in range(1, 11)],\n",
    "        'p': [i for i in range(1, 6)]\n",
    "    }\n",
    "]"
   ]
  },
  {
   "cell_type": "code",
   "execution_count": 18,
   "metadata": {},
   "outputs": [
    {
     "data": {
      "text/plain": [
       "GridSearchCV(estimator=KNeighborsClassifier(),\n",
       "             param_grid=[{'n_neighbors': [1, 2, 3, 4, 5, 6, 7, 8, 9, 10],\n",
       "                          'weights': ['uniform']},\n",
       "                         {'n_neighbors': [1, 2, 3, 4, 5, 6, 7, 8, 9, 10],\n",
       "                          'p': [1, 2, 3, 4, 5], 'weights': ['distance']}])"
      ]
     },
     "execution_count": 18,
     "metadata": {},
     "output_type": "execute_result"
    }
   ],
   "source": [
    "knn_clf = KNeighborsClassifier()\n",
    "from sklearn.model_selection import GridSearchCV\n",
    "grid_search = GridSearchCV(knn_clf, param_grid)\n",
    "grid_search.fit(X_train, y_train)"
   ]
  },
  {
   "cell_type": "code",
   "execution_count": 19,
   "metadata": {},
   "outputs": [],
   "source": [
    "knn_clf = grid_search.best_estimator_"
   ]
  },
  {
   "cell_type": "code",
   "execution_count": 15,
   "metadata": {},
   "outputs": [
    {
     "data": {
      "text/plain": [
       "0.990251161440186"
      ]
     },
     "execution_count": 15,
     "metadata": {},
     "output_type": "execute_result"
    }
   ],
   "source": [
    "grid_search.best_score_"
   ]
  },
  {
   "cell_type": "code",
   "execution_count": 16,
   "metadata": {},
   "outputs": [
    {
     "data": {
      "text/plain": [
       "{'n_neighbors': 1, 'p': 3, 'weights': 'distance'}"
      ]
     },
     "execution_count": 16,
     "metadata": {},
     "output_type": "execute_result"
    }
   ],
   "source": [
    "grid_search.best_params_"
   ]
  },
  {
   "cell_type": "code",
   "execution_count": 20,
   "metadata": {},
   "outputs": [
    {
     "data": {
      "text/plain": [
       "0.9805555555555555"
      ]
     },
     "execution_count": 20,
     "metadata": {},
     "output_type": "execute_result"
    }
   ],
   "source": [
    "knn_clf.score(X_test, y_test)"
   ]
  },
  {
   "cell_type": "code",
   "execution_count": 24,
   "metadata": {},
   "outputs": [
    {
     "name": "stdout",
     "output_type": "stream",
     "text": [
      "Fitting 5 folds for each of 60 candidates, totalling 300 fits\n"
     ]
    },
    {
     "name": "stderr",
     "output_type": "stream",
     "text": [
      "[Parallel(n_jobs=-1)]: Using backend LokyBackend with 12 concurrent workers.\n",
      "[Parallel(n_jobs=-1)]: Done  17 tasks      | elapsed:    2.0s\n",
      "[Parallel(n_jobs=-1)]: Done 138 tasks      | elapsed:    4.6s\n"
     ]
    },
    {
     "name": "stdout",
     "output_type": "stream",
     "text": [
      "CPU times: user 617 ms, sys: 156 ms, total: 773 ms\n",
      "Wall time: 8.11 s\n"
     ]
    },
    {
     "name": "stderr",
     "output_type": "stream",
     "text": [
      "[Parallel(n_jobs=-1)]: Done 300 out of 300 | elapsed:    8.1s finished\n"
     ]
    },
    {
     "data": {
      "text/plain": [
       "GridSearchCV(estimator=KNeighborsClassifier(n_neighbors=1, p=3,\n",
       "                                            weights='distance'),\n",
       "             n_jobs=-1,\n",
       "             param_grid=[{'n_neighbors': [1, 2, 3, 4, 5, 6, 7, 8, 9, 10],\n",
       "                          'weights': ['uniform']},\n",
       "                         {'n_neighbors': [1, 2, 3, 4, 5, 6, 7, 8, 9, 10],\n",
       "                          'p': [1, 2, 3, 4, 5], 'weights': ['distance']}],\n",
       "             verbose=2)"
      ]
     },
     "execution_count": 24,
     "metadata": {},
     "output_type": "execute_result"
    }
   ],
   "source": [
    "%%time\n",
    "# Set n_jobs to use parallel computing, set verbose to display more info while running\n",
    "grid_search = GridSearchCV(knn_clf, param_grid, n_jobs = -1, verbose = 2)\n",
    "grid_search.fit(X_train, y_train)"
   ]
  },
  {
   "cell_type": "markdown",
   "metadata": {},
   "source": [
    "# Scaling\n",
    "## if the scales of features is not similar (Recall the time and size from the tumur example)\n",
    "## Normalization (最值归一化) Standardization (均值方差归一化) "
   ]
  },
  {
   "cell_type": "markdown",
   "metadata": {},
   "source": [
    "## Normalization: the normalized are between 0 and 1\n",
    "### This method is not suitable for data whose range is big (e.g., 1,1,1,100,100,100), it would be influenced by an outlier"
   ]
  },
  {
   "cell_type": "code",
   "execution_count": 31,
   "metadata": {},
   "outputs": [],
   "source": [
    "x = np.random.randint(0, 100, size = 100)\n",
    "X = np.random.randint(0, 100, (50, 2))"
   ]
  },
  {
   "cell_type": "code",
   "execution_count": 26,
   "metadata": {},
   "outputs": [
    {
     "data": {
      "text/plain": [
       "array([0.96969697, 0.81818182, 0.49494949, 0.19191919, 0.46464646,\n",
       "       0.22222222, 0.45454545, 0.90909091, 0.05050505, 0.67676768,\n",
       "       0.95959596, 0.31313131, 0.24242424, 0.74747475, 0.18181818,\n",
       "       0.73737374, 0.91919192, 0.84848485, 0.21212121, 0.48484848,\n",
       "       0.73737374, 0.49494949, 0.21212121, 0.06060606, 0.70707071,\n",
       "       0.76767677, 0.57575758, 0.56565657, 0.48484848, 0.57575758,\n",
       "       0.32323232, 0.93939394, 0.06060606, 0.75757576, 0.26262626,\n",
       "       0.4040404 , 0.68686869, 0.87878788, 0.03030303, 0.18181818,\n",
       "       0.21212121, 0.26262626, 0.3030303 , 0.02020202, 0.85858586,\n",
       "       0.73737374, 0.71717172, 0.22222222, 0.37373737, 0.14141414,\n",
       "       0.19191919, 0.44444444, 0.18181818, 0.8989899 , 1.        ,\n",
       "       0.55555556, 0.01010101, 0.61616162, 0.98989899, 0.06060606,\n",
       "       0.47474747, 0.52525253, 0.80808081, 0.04040404, 0.        ,\n",
       "       0.1010101 , 0.83838384, 0.14141414, 0.26262626, 0.33333333,\n",
       "       0.03030303, 0.64646465, 0.76767677, 0.61616162, 0.12121212,\n",
       "       0.38383838, 0.94949495, 0.44444444, 0.48484848, 0.80808081,\n",
       "       0.46464646, 0.22222222, 0.15151515, 0.98989899, 0.84848485,\n",
       "       0.96969697, 0.44444444, 0.1010101 , 0.12121212, 0.22222222,\n",
       "       0.13131313, 0.6969697 , 0.91919192, 0.46464646, 0.84848485,\n",
       "       0.44444444, 0.26262626, 0.45454545, 0.66666667, 0.91919192])"
      ]
     },
     "execution_count": 26,
     "metadata": {},
     "output_type": "execute_result"
    }
   ],
   "source": [
    "(x - np.min(x)) / (np.max(x) - np.min(x))"
   ]
  },
  {
   "cell_type": "code",
   "execution_count": 38,
   "metadata": {},
   "outputs": [
    {
     "data": {
      "image/png": "[encoded data removed]",
      "text/plain": [
       "<Figure size 432x288 with 1 Axes>"
      ]
     },
     "metadata": {
      "needs_background": "light"
     },
     "output_type": "display_data"
    }
   ],
   "source": [
    "X = (X - np.min(X)) / (np.max(X) - np.min(X))\n",
    "# (X[:,0] - np.min(X[:,0])) / (np.max(X[:,0]) - np.min(X[:,0]))\n",
    "plt.scatter(X[:,0], X[:,1])\n",
    "plt.show()"
   ]
  },
  {
   "cell_type": "code",
   "execution_count": 40,
   "metadata": {},
   "outputs": [
    {
     "data": {
      "text/plain": [
       "(0.5127835051546392, 0.29212071051565175)"
      ]
     },
     "execution_count": 40,
     "metadata": {},
     "output_type": "execute_result"
    }
   ],
   "source": [
    "np.mean(X[:, 0]), np.std(X[:, 0])"
   ]
  },
  {
   "cell_type": "markdown",
   "metadata": {},
   "source": [
    "## Standeralization: this approach convert the mean of original data to 0, and the standard deviation of it to 1"
   ]
  },
  {
   "cell_type": "code",
   "execution_count": 44,
   "metadata": {},
   "outputs": [],
   "source": [
    "X2 = np.random.randint(0, 100, size = (50, 2))\n",
    "X2 = np.array(X2, dtype = float)"
   ]
  },
  {
   "cell_type": "code",
   "execution_count": 45,
   "metadata": {},
   "outputs": [
    {
     "data": {
      "image/png": "[encoded data removed]",
      "text/plain": [
       "<Figure size 432x288 with 1 Axes>"
      ]
     },
     "metadata": {
      "needs_background": "light"
     },
     "output_type": "display_data"
    }
   ],
   "source": [
    "X2[:, 0] = (X2[:, 0] - np.mean(X2[:, 0])) / np.std(X2[:, 0])\n",
    "X2[:, 1] = (X2[:, 1] - np.mean(X2[:, 1])) / np.std(X2[:, 1])\n",
    "plt.scatter(X2[:,0], X2[:,1])\n",
    "plt.show()"
   ]
  },
  {
   "cell_type": "code",
   "execution_count": 46,
   "metadata": {},
   "outputs": [
    {
     "data": {
      "text/plain": [
       "(4.884981308350689e-17, 1.0)"
      ]
     },
     "execution_count": 46,
     "metadata": {},
     "output_type": "execute_result"
    }
   ],
   "source": [
    "np.mean(X2[:, 0]), np.std(X2[:, 0])"
   ]
  },
  {
   "cell_type": "markdown",
   "metadata": {},
   "source": [
    "## Use scaler in scikit-learn"
   ]
  },
  {
   "cell_type": "code",
   "execution_count": 48,
   "metadata": {},
   "outputs": [],
   "source": [
    "iris = datasets.load_iris()\n",
    "X = iris.data\n",
    "y = iris.target"
   ]
  },
  {
   "cell_type": "code",
   "execution_count": 50,
   "metadata": {},
   "outputs": [
    {
     "data": {
      "text/plain": [
       "array([[5.1, 3.5, 1.4, 0.2],\n",
       "       [4.9, 3. , 1.4, 0.2],\n",
       "       [4.7, 3.2, 1.3, 0.2],\n",
       "       [4.6, 3.1, 1.5, 0.2],\n",
       "       [5. , 3.6, 1.4, 0.2],\n",
       "       [5.4, 3.9, 1.7, 0.4],\n",
       "       [4.6, 3.4, 1.4, 0.3],\n",
       "       [5. , 3.4, 1.5, 0.2],\n",
       "       [4.4, 2.9, 1.4, 0.2],\n",
       "       [4.9, 3.1, 1.5, 0.1]])"
      ]
     },
     "execution_count": 50,
     "metadata": {},
     "output_type": "execute_result"
    }
   ],
   "source": [
    "X[:10, :]"
   ]
  },
  {
   "cell_type": "code",
   "execution_count": 51,
   "metadata": {},
   "outputs": [],
   "source": [
    "X_train, X_test, y_train, y_test = train_test_split(X, y, test_size = 0.2, random_state = 600)"
   ]
  },
  {
   "cell_type": "code",
   "execution_count": 56,
   "metadata": {},
   "outputs": [
    {
     "data": {
      "text/plain": [
       "(array([5.85      , 3.06083333, 3.80083333, 1.21166667]),\n",
       " array([0.85800155, 0.42116818, 1.79863355, 0.78051087]))"
      ]
     },
     "execution_count": 56,
     "metadata": {},
     "output_type": "execute_result"
    }
   ],
   "source": [
    "from sklearn.preprocessing import StandardScaler\n",
    "standardScaler = StandardScaler()\n",
    "standardScaler.fit(X_train)\n",
    "standardScaler.mean_, standardScaler.scale_"
   ]
  },
  {
   "cell_type": "code",
   "execution_count": 60,
   "metadata": {},
   "outputs": [],
   "source": [
    "X_train = standardScaler.transform(X_train)\n",
    "X_test_standard = standardScaler.transform(X_test)"
   ]
  },
  {
   "cell_type": "code",
   "execution_count": 63,
   "metadata": {},
   "outputs": [
    {
     "data": {
      "text/plain": [
       "0.9"
      ]
     },
     "execution_count": 63,
     "metadata": {},
     "output_type": "execute_result"
    }
   ],
   "source": [
    "# Apply KNN to standardlized data\n",
    "knn_clf = KNeighborsClassifier(n_neighbors = 3)\n",
    "knn_clf.fit(X_train, y_train)\n",
    "knn_clf.score(X_test_standard, y_test)"
   ]
  },
  {
   "cell_type": "code",
   "execution_count": 64,
   "metadata": {},
   "outputs": [],
   "source": [
    "knn_clf.fit?"
   ]
  },
  {
   "cell_type": "markdown",
   "metadata": {},
   "source": [
    "## Implement StandardScaler in preprocessing.py"
   ]
  },
  {
   "cell_type": "code",
   "execution_count": 65,
   "metadata": {},
   "outputs": [
    {
     "data": {
      "text/plain": [
       "(array([-14.76473954, -24.52302534,  -3.2880581 ,  -3.54135836]),\n",
       " array([1.35838805, 5.63753029, 0.30911111, 1.64150453]))"
      ]
     },
     "execution_count": 65,
     "metadata": {},
     "output_type": "execute_result"
    }
   ],
   "source": [
    "%run /Users/ada/Documents/coding-workspace/PycharmProjects/fun_machine_learning/preprocessing.py\n",
    "standardScaler = StandardScalerImpl()\n",
    "standardScaler.fit(X_train)\n",
    "standardScaler.mean_, standardScaler.scale_"
   ]
  },
  {
   "cell_type": "code",
   "execution_count": 66,
   "metadata": {},
   "outputs": [
    {
     "data": {
      "text/plain": [
       "array([[ 5.24474575e-01, -1.33161372e+00,  6.66709830e-01,\n",
       "         8.81901018e-01],\n",
       "       [-2.91374764e-01, -6.19309206e-01,  6.11112068e-01,\n",
       "         1.01002223e+00],\n",
       "       [-1.10722410e+00, -1.33161372e+00,  3.88721020e-01,\n",
       "         6.25658592e-01],\n",
       "       [-1.10722410e+00, -1.56904856e+00, -2.78452125e-01,\n",
       "        -2.71189902e-01],\n",
       "       [-5.24474575e-01,  8.05299830e-01, -1.16801632e+00,\n",
       "        -1.29615961e+00],\n",
       "       [ 5.24474575e-01,  5.67864991e-01,  1.22268745e+00,\n",
       "         1.65062830e+00],\n",
       "       [ 1.74824858e-01, -2.04391824e+00,  1.10732209e-01,\n",
       "        -2.71189902e-01],\n",
       "       [ 2.15617325e+00,  1.75503919e+00,  1.61187178e+00,\n",
       "         1.26626466e+00],\n",
       "       [ 1.10722410e+00, -1.44439527e-01,  9.44698640e-01,\n",
       "         1.13814344e+00],\n",
       "       [-8.74124291e-01,  1.51760435e+00, -1.27921184e+00,\n",
       "        -1.03991718e+00],\n",
       "       [ 1.80652353e+00, -6.19309206e-01,  1.27828521e+00,\n",
       "         8.81901018e-01],\n",
       "       [-1.22377401e+00, -1.44439527e-01, -1.33480960e+00,\n",
       "        -1.16803839e+00],\n",
       "       [-9.90674196e-01,  1.28016951e+00, -1.33480960e+00,\n",
       "        -1.29615961e+00],\n",
       "       [-8.74124291e-01,  1.04273467e+00, -1.33480960e+00,\n",
       "        -1.16803839e+00],\n",
       "       [ 2.03962335e+00, -1.44439527e-01,  1.55627402e+00,\n",
       "         1.13814344e+00],\n",
       "       [ 7.57574385e-01, -6.19309206e-01,  4.44318782e-01,\n",
       "         3.69416165e-01],\n",
       "       [ 1.22377401e+00,  9.29953121e-02,  7.22307592e-01,\n",
       "         1.39438587e+00],\n",
       "       [-1.22377401e+00,  8.05299830e-01, -1.05682079e+00,\n",
       "        -1.29615961e+00],\n",
       "       [ 2.38927306e+00,  1.75503919e+00,  1.44507850e+00,\n",
       "         1.01002223e+00],\n",
       "       [-7.57574385e-01,  2.46734371e+00, -1.27921184e+00,\n",
       "        -1.42428082e+00],\n",
       "       [ 9.90674196e-01,  5.67864991e-01,  1.05589416e+00,\n",
       "         1.65062830e+00],\n",
       "       [-5.82749527e-02, -8.56744045e-01,  1.66329971e-01,\n",
       "        -2.71189902e-01],\n",
       "       [ 5.82749527e-02, -1.44439527e-01,  2.21927734e-01,\n",
       "         3.69416165e-01],\n",
       "       [ 2.15617325e+00, -6.19309206e-01,  1.61187178e+00,\n",
       "         1.01002223e+00],\n",
       "       [-7.57574385e-01,  1.04273467e+00, -1.27921184e+00,\n",
       "        -1.29615961e+00],\n",
       "       [-9.90674196e-01, -1.80648340e+00, -2.78452125e-01,\n",
       "        -2.71189902e-01],\n",
       "       [-1.68997363e+00, -3.81874367e-01, -1.33480960e+00,\n",
       "        -1.29615961e+00],\n",
       "       [ 7.57574385e-01, -1.44439527e-01,  1.11149193e+00,\n",
       "         1.26626466e+00],\n",
       "       [ 2.91374764e-01, -6.19309206e-01,  4.99916544e-01,\n",
       "        -1.49474749e-02],\n",
       "       [ 1.22377401e+00,  3.30430151e-01,  1.05589416e+00,\n",
       "         1.39438587e+00],\n",
       "       [ 7.57574385e-01, -1.44439527e-01,  9.44698640e-01,\n",
       "         7.53779805e-01],\n",
       "       [-5.82749527e-02, -8.56744045e-01,  7.22307592e-01,\n",
       "         8.81901018e-01],\n",
       "       [-8.74124291e-01,  1.04273467e+00, -1.33480960e+00,\n",
       "        -1.29615961e+00],\n",
       "       [ 4.07924669e-01, -3.81874367e-01,  2.77525496e-01,\n",
       "         1.13173738e-01],\n",
       "       [ 5.82749527e-02,  3.30430151e-01,  5.55514306e-01,\n",
       "         7.53779805e-01],\n",
       "       [-9.90674196e-01, -2.51878792e+00, -1.67256601e-01,\n",
       "        -2.71189902e-01],\n",
       "       [ 5.24474575e-01, -1.33161372e+00,  6.11112068e-01,\n",
       "         3.69416165e-01],\n",
       "       [-9.90674196e-01,  1.04273467e+00, -1.39040737e+00,\n",
       "        -1.16803839e+00],\n",
       "       [ 1.57342372e+00,  1.28016951e+00,  1.27828521e+00,\n",
       "         1.65062830e+00],\n",
       "       [ 5.24474575e-01, -1.80648340e+00,  3.33123258e-01,\n",
       "         1.13173738e-01],\n",
       "       [-5.24474575e-01,  1.51760435e+00, -1.27921184e+00,\n",
       "        -1.29615961e+00],\n",
       "       [-1.68997363e+00,  3.30430151e-01, -1.39040737e+00,\n",
       "        -1.29615961e+00],\n",
       "       [ 5.24474575e-01,  5.67864991e-01,  4.99916544e-01,\n",
       "         4.97537378e-01],\n",
       "       [-7.57574385e-01, -8.56744045e-01,  5.51344474e-02,\n",
       "         2.41294952e-01],\n",
       "       [-8.74124291e-01,  1.75503919e+00, -1.22361408e+00,\n",
       "        -1.29615961e+00],\n",
       "       [-1.34032391e+00,  3.30430151e-01, -1.39040737e+00,\n",
       "        -1.29615961e+00],\n",
       "       [ 1.74824858e-01, -1.44439527e-01,  5.55514306e-01,\n",
       "         7.53779805e-01],\n",
       "       [-8.74124291e-01,  1.75503919e+00, -1.27921184e+00,\n",
       "        -1.16803839e+00],\n",
       "       [-1.10722410e+00, -1.44439527e-01, -1.33480960e+00,\n",
       "        -1.29615961e+00],\n",
       "       [-9.90674196e-01, -1.44439527e-01, -1.22361408e+00,\n",
       "        -1.29615961e+00],\n",
       "       [-1.74824858e-01, -3.81874367e-01,  2.21927734e-01,\n",
       "         1.13173738e-01],\n",
       "       [-1.45687382e+00,  1.28016951e+00, -1.55720065e+00,\n",
       "        -1.29615961e+00],\n",
       "       [-1.10722410e+00,  9.29953121e-02, -1.27921184e+00,\n",
       "        -1.42428082e+00],\n",
       "       [-8.74124291e-01, -1.33161372e+00, -4.45245411e-01,\n",
       "        -1.43068688e-01],\n",
       "       [-5.24474575e-01,  1.99247403e+00, -1.16801632e+00,\n",
       "        -1.03991718e+00],\n",
       "       [ 6.41024480e-01,  9.29953121e-02,  9.44698640e-01,\n",
       "         7.53779805e-01],\n",
       "       [-1.34032391e+00,  3.30430151e-01, -1.22361408e+00,\n",
       "        -1.29615961e+00],\n",
       "       [ 9.90674196e-01,  9.29953121e-02,  4.99916544e-01,\n",
       "         3.69416165e-01],\n",
       "       [-1.74824858e-01, -1.44439527e-01,  2.21927734e-01,\n",
       "        -1.49474749e-02],\n",
       "       [ 4.07924669e-01, -6.19309206e-01,  5.55514306e-01,\n",
       "         7.53779805e-01],\n",
       "       [ 9.90674196e-01,  5.67864991e-01,  1.05589416e+00,\n",
       "         1.13814344e+00],\n",
       "       [-5.82749527e-02, -1.09417888e+00,  1.10732209e-01,\n",
       "        -1.49474749e-02],\n",
       "       [ 1.10722410e+00, -6.19309206e-01,  5.55514306e-01,\n",
       "         2.41294952e-01],\n",
       "       [-5.24474575e-01, -1.44439527e-01,  3.88721020e-01,\n",
       "         3.69416165e-01],\n",
       "       [ 1.22377401e+00,  9.29953121e-02,  8.89100878e-01,\n",
       "         1.13814344e+00],\n",
       "       [-5.24474575e-01,  8.05299830e-01, -1.27921184e+00,\n",
       "        -1.03991718e+00],\n",
       "       [-4.07924669e-01, -1.56904856e+00, -5.60610767e-02,\n",
       "        -2.71189902e-01],\n",
       "       [-1.45687382e+00,  8.05299830e-01, -1.33480960e+00,\n",
       "        -1.16803839e+00],\n",
       "       [-1.22377401e+00,  9.29953121e-02, -1.22361408e+00,\n",
       "        -1.29615961e+00],\n",
       "       [ 5.24474575e-01, -3.81874367e-01,  1.00029640e+00,\n",
       "         7.53779805e-01],\n",
       "       [ 4.07924669e-01, -2.04391824e+00,  3.88721020e-01,\n",
       "         3.69416165e-01],\n",
       "       [-1.74824858e-01, -6.19309206e-01,  3.88721020e-01,\n",
       "         1.13173738e-01],\n",
       "       [ 4.07924669e-01,  8.05299830e-01,  8.89100878e-01,\n",
       "         1.39438587e+00],\n",
       "       [-2.91374764e-01, -1.44439527e-01,  3.88721020e-01,\n",
       "         3.69416165e-01],\n",
       "       [ 1.74824858e-01, -8.56744045e-01,  7.22307592e-01,\n",
       "         4.97537378e-01],\n",
       "       [ 9.90674196e-01,  9.29953121e-02,  1.00029640e+00,\n",
       "         1.52250708e+00],\n",
       "       [ 2.91374764e-01, -1.09417888e+00,  1.00029640e+00,\n",
       "         2.41294952e-01],\n",
       "       [-1.74824858e-01, -1.09417888e+00, -1.67256601e-01,\n",
       "        -2.71189902e-01],\n",
       "       [-1.22377401e+00, -1.44439527e-01, -1.33480960e+00,\n",
       "        -1.42428082e+00],\n",
       "       [ 1.45687382e+00, -1.44439527e-01,  1.16708969e+00,\n",
       "         1.13814344e+00],\n",
       "       [ 2.15617325e+00, -1.09417888e+00,  1.72306731e+00,\n",
       "         1.39438587e+00],\n",
       "       [-4.07924669e-01, -1.56904856e+00, -4.63314684e-04,\n",
       "        -1.43068688e-01],\n",
       "       [-9.90674196e-01,  8.05299830e-01, -1.27921184e+00,\n",
       "        -1.29615961e+00],\n",
       "       [-1.57342372e+00, -1.80648340e+00, -1.39040737e+00,\n",
       "        -1.16803839e+00],\n",
       "       [ 1.74824858e-01,  8.05299830e-01,  3.88721020e-01,\n",
       "         4.97537378e-01],\n",
       "       [ 1.68997363e+00, -3.81874367e-01,  1.38948074e+00,\n",
       "         7.53779805e-01],\n",
       "       [-5.82749527e-02, -6.19309206e-01,  7.22307592e-01,\n",
       "         1.52250708e+00],\n",
       "       [ 5.24474575e-01,  8.05299830e-01,  1.00029640e+00,\n",
       "         1.52250708e+00],\n",
       "       [-4.07924669e-01,  1.04273467e+00, -1.39040737e+00,\n",
       "        -1.29615961e+00],\n",
       "       [ 6.41024480e-01,  3.30430151e-01,  3.88721020e-01,\n",
       "         3.69416165e-01],\n",
       "       [ 5.24474575e-01, -6.19309206e-01,  7.22307592e-01,\n",
       "         3.69416165e-01],\n",
       "       [ 1.57342372e+00,  3.30430151e-01,  1.22268745e+00,\n",
       "         7.53779805e-01],\n",
       "       [ 2.91374764e-01, -6.19309206e-01,  1.10732209e-01,\n",
       "         1.13173738e-01],\n",
       "       [-7.57574385e-01,  8.05299830e-01, -1.33480960e+00,\n",
       "        -1.29615961e+00],\n",
       "       [ 9.90674196e-01, -1.44439527e-01,  6.66709830e-01,\n",
       "         6.25658592e-01],\n",
       "       [ 1.57342372e+00, -1.44439527e-01,  1.11149193e+00,\n",
       "         4.97537378e-01],\n",
       "       [ 6.41024480e-01, -8.56744045e-01,  8.33503116e-01,\n",
       "         8.81901018e-01],\n",
       "       [ 2.91374764e-01, -3.81874367e-01,  4.99916544e-01,\n",
       "         2.41294952e-01],\n",
       "       [-4.07924669e-01, -1.09417888e+00,  3.33123258e-01,\n",
       "        -1.49474749e-02],\n",
       "       [ 6.41024480e-01, -6.19309206e-01,  1.00029640e+00,\n",
       "         1.26626466e+00],\n",
       "       [-9.90674196e-01,  5.67864991e-01, -1.33480960e+00,\n",
       "        -1.29615961e+00],\n",
       "       [ 2.15617325e+00, -1.44439527e-01,  1.27828521e+00,\n",
       "         1.39438587e+00],\n",
       "       [-2.91374764e-01, -1.44439527e-01,  1.66329971e-01,\n",
       "         1.13173738e-01],\n",
       "       [-1.74824858e-01,  1.75503919e+00, -1.16801632e+00,\n",
       "        -1.16803839e+00],\n",
       "       [-1.74824858e-01, -6.19309206e-01,  1.66329971e-01,\n",
       "         1.13173738e-01],\n",
       "       [ 8.74124291e-01, -1.44439527e-01,  3.33123258e-01,\n",
       "         2.41294952e-01],\n",
       "       [-9.90674196e-01,  1.04273467e+00, -1.22361408e+00,\n",
       "        -7.83674755e-01],\n",
       "       [-9.90674196e-01,  3.30430151e-01, -1.44600513e+00,\n",
       "        -1.29615961e+00],\n",
       "       [ 6.41024480e-01, -6.19309206e-01,  1.00029640e+00,\n",
       "         1.13814344e+00],\n",
       "       [ 1.10722410e+00,  3.30430151e-01,  1.16708969e+00,\n",
       "         1.39438587e+00],\n",
       "       [-1.68997363e+00, -1.44439527e-01, -1.39040737e+00,\n",
       "        -1.29615961e+00],\n",
       "       [-8.74124291e-01,  1.75503919e+00, -1.05682079e+00,\n",
       "        -1.03991718e+00],\n",
       "       [ 7.57574385e-01, -1.44439527e-01,  7.77905354e-01,\n",
       "         1.01002223e+00],\n",
       "       [-1.10722410e+00,  1.28016951e+00, -1.33480960e+00,\n",
       "        -1.42428082e+00],\n",
       "       [-2.91374764e-01, -1.33161372e+00,  5.51344474e-02,\n",
       "        -1.43068688e-01],\n",
       "       [-4.07924669e-01,  2.70477854e+00, -1.33480960e+00,\n",
       "        -1.29615961e+00],\n",
       "       [-1.45687382e+00,  3.30430151e-01, -1.33480960e+00,\n",
       "        -1.29615961e+00],\n",
       "       [ 6.41024480e-01,  3.30430151e-01,  8.33503116e-01,\n",
       "         1.39438587e+00],\n",
       "       [ 2.91374764e-01, -1.44439527e-01,  4.44318782e-01,\n",
       "         2.41294952e-01],\n",
       "       [-1.22377401e+00,  8.05299830e-01, -1.22361408e+00,\n",
       "        -1.29615961e+00]])"
      ]
     },
     "execution_count": 66,
     "metadata": {},
     "output_type": "execute_result"
    }
   ],
   "source": [
    "standardScaler.transform(X_train)"
   ]
  },
  {
   "cell_type": "code",
   "execution_count": null,
   "metadata": {},
   "outputs": [],
   "source": []
  }
 ],
 "metadata": {
  "kernelspec": {
   "display_name": "Python 3",
   "language": "python",
   "name": "python3"
  },
  "language_info": {
   "codemirror_mode": {
    "name": "ipython",
    "version": 3
   },
   "file_extension": ".py",
   "mimetype": "text/x-python",
   "name": "python",
   "nbconvert_exporter": "python",
   "pygments_lexer": "ipython3",
   "version": "3.7.6"
  }
 },
 "nbformat": 4,
 "nbformat_minor": 4
}
