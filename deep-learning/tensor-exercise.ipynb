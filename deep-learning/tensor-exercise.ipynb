{
 "cells": [
  {
   "cell_type": "code",
   "execution_count": 24,
   "metadata": {},
   "outputs": [],
   "source": [
    "import torch\n",
    "import numpy as np"
   ]
  },
  {
   "cell_type": "code",
   "execution_count": 3,
   "metadata": {},
   "outputs": [
    {
     "name": "stdout",
     "output_type": "stream",
     "text": [
      "1.6.0\n",
      "None\n"
     ]
    }
   ],
   "source": [
    "print(torch.__version__)\n",
    "print(torch.version.cuda)"
   ]
  },
  {
   "cell_type": "markdown",
   "metadata": {},
   "source": [
    "## Tensor could be seen as a more abstract object, in many ways, many of its operations are similar to numpy"
   ]
  },
  {
   "cell_type": "code",
   "execution_count": 4,
   "metadata": {},
   "outputs": [
    {
     "data": {
      "text/plain": [
       "tensor([[1., 2.],\n",
       "        [3., 4.]])"
      ]
     },
     "execution_count": 4,
     "metadata": {},
     "output_type": "execute_result"
    }
   ],
   "source": [
    "a = torch.Tensor([[1, 2], [3, 4]])\n",
    "a"
   ]
  },
  {
   "cell_type": "code",
   "execution_count": 5,
   "metadata": {},
   "outputs": [
    {
     "data": {
      "text/plain": [
       "'torch.FloatTensor'"
      ]
     },
     "execution_count": 5,
     "metadata": {},
     "output_type": "execute_result"
    }
   ],
   "source": [
    "a.type()"
   ]
  },
  {
   "cell_type": "code",
   "execution_count": 6,
   "metadata": {},
   "outputs": [
    {
     "data": {
      "text/plain": [
       "tensor([[0.0000e+00, 3.6893e+19, 0.0000e+00, 3.6893e+19, 2.1019e-44],\n",
       "        [0.0000e+00, 0.0000e+00, 0.0000e+00, 0.0000e+00, 0.0000e+00],\n",
       "        [0.0000e+00, 0.0000e+00, 0.0000e+00, 0.0000e+00, 0.0000e+00],\n",
       "        [0.0000e+00, 0.0000e+00, 0.0000e+00, 0.0000e+00, 0.0000e+00],\n",
       "        [0.0000e+00, 0.0000e+00, 0.0000e+00, 0.0000e+00, 0.0000e+00]])"
      ]
     },
     "execution_count": 6,
     "metadata": {},
     "output_type": "execute_result"
    }
   ],
   "source": [
    "torch.Tensor(5, 5)"
   ]
  },
  {
   "cell_type": "code",
   "execution_count": 7,
   "metadata": {},
   "outputs": [
    {
     "data": {
      "text/plain": [
       "tensor([[1., 1.],\n",
       "        [1., 1.]])"
      ]
     },
     "execution_count": 7,
     "metadata": {},
     "output_type": "execute_result"
    }
   ],
   "source": [
    "torch.ones(2, 2)"
   ]
  },
  {
   "cell_type": "code",
   "execution_count": 8,
   "metadata": {},
   "outputs": [
    {
     "data": {
      "text/plain": [
       "tensor([[0., 0.],\n",
       "        [0., 0.]])"
      ]
     },
     "execution_count": 8,
     "metadata": {},
     "output_type": "execute_result"
    }
   ],
   "source": [
    "torch.zeros(2, 2)"
   ]
  },
  {
   "cell_type": "code",
   "execution_count": 9,
   "metadata": {},
   "outputs": [
    {
     "data": {
      "text/plain": [
       "tensor([[1., 0.],\n",
       "        [0., 1.]])"
      ]
     },
     "execution_count": 9,
     "metadata": {},
     "output_type": "execute_result"
    }
   ],
   "source": [
    "torch.eye(2, 2)"
   ]
  },
  {
   "cell_type": "code",
   "execution_count": 12,
   "metadata": {},
   "outputs": [
    {
     "data": {
      "text/plain": [
       "tensor([[0.9910, 0.6164, 0.7079],\n",
       "        [0.9708, 0.1331, 0.9752],\n",
       "        [0.9084, 0.9951, 0.0590],\n",
       "        [0.7318, 0.4683, 0.8242],\n",
       "        [0.3880, 0.5425, 0.5820]])"
      ]
     },
     "execution_count": 12,
     "metadata": {},
     "output_type": "execute_result"
    }
   ],
   "source": [
    "# Generate a tensor with random values, which are within [0, 1]\n",
    "torch.rand(5, 3)"
   ]
  },
  {
   "cell_type": "code",
   "execution_count": 18,
   "metadata": {},
   "outputs": [
    {
     "data": {
      "text/plain": [
       "tensor([[0., 0., 0.],\n",
       "        [0., 0., 0.]])"
      ]
     },
     "execution_count": 18,
     "metadata": {},
     "output_type": "execute_result"
    }
   ],
   "source": [
    "# same shape as a given tensor\n",
    "a = torch.Tensor(2, 3)\n",
    "# torch.ones_like(a)\n",
    "torch.zeros_like(a)"
   ]
  },
  {
   "cell_type": "code",
   "execution_count": 19,
   "metadata": {},
   "outputs": [
    {
     "data": {
      "text/plain": [
       "tensor([[-0.1364, -0.2170],\n",
       "        [-0.1866, -0.6179]])"
      ]
     },
     "execution_count": 19,
     "metadata": {},
     "output_type": "execute_result"
    }
   ],
   "source": [
    "torch.Tensor(2, 2).uniform_(-1, 1)"
   ]
  },
  {
   "cell_type": "code",
   "execution_count": 22,
   "metadata": {},
   "outputs": [
    {
     "name": "stdout",
     "output_type": "stream",
     "text": [
      "tensor([0, 1, 2, 3, 4, 5, 6, 7, 8, 9])\n",
      "tensor([0, 2, 4, 6, 8])\n",
      "tensor([ 0.0000,  2.5000,  5.0000,  7.5000, 10.0000])\n"
     ]
    }
   ],
   "source": [
    "print(torch.arange(0, 10))  # within [0, 10), same as Python\n",
    "print(torch.arange(0, 10, 2))\n",
    "print(torch.linspace(0, 10, 5))  # divide the range evenly over [0, 10)"
   ]
  },
  {
   "cell_type": "code",
   "execution_count": 23,
   "metadata": {},
   "outputs": [
    {
     "data": {
      "text/plain": [
       "tensor([4, 9, 6, 0, 5, 3, 2, 7, 8, 1])"
      ]
     },
     "execution_count": 23,
     "metadata": {},
     "output_type": "execute_result"
    }
   ],
   "source": [
    "torch.randperm(10)  # Returns a random permutation"
   ]
  },
  {
   "cell_type": "code",
   "execution_count": 26,
   "metadata": {},
   "outputs": [
    {
     "data": {
      "text/plain": [
       "array([[1, 2],\n",
       "       [3, 4]])"
      ]
     },
     "execution_count": 26,
     "metadata": {},
     "output_type": "execute_result"
    }
   ],
   "source": [
    "np.array([[1, 2], [3, 4]])"
   ]
  },
  {
   "cell_type": "code",
   "execution_count": 30,
   "metadata": {},
   "outputs": [
    {
     "data": {
      "text/plain": [
       "tensor([[1, 2],\n",
       "        [3, 4]])"
      ]
     },
     "execution_count": 30,
     "metadata": {},
     "output_type": "execute_result"
    }
   ],
   "source": [
    "torch.tensor([[1, 2], [3, 4]])"
   ]
  },
  {
   "cell_type": "code",
   "execution_count": 3,
   "metadata": {},
   "outputs": [
    {
     "name": "stdout",
     "output_type": "stream",
     "text": [
      "torch.Size([3, 4]) cpu torch.float32\n"
     ]
    }
   ],
   "source": [
    "# Tensor attribute\n",
    "tensor = torch.rand(3,4)\n",
    "print(tensor.shape, tensor.device, tensor.dtype)"
   ]
  },
  {
   "cell_type": "code",
   "execution_count": 33,
   "metadata": {},
   "outputs": [
    {
     "name": "stdout",
     "output_type": "stream",
     "text": [
      "tensor([2., 2.]) torch.FloatTensor\n"
     ]
    }
   ],
   "source": [
    "dev = torch.device(\"cpu\")  # \"cuda\"\n",
    "a = torch.tensor([2, 2], dtype=torch.float32, device=dev)\n",
    "print(a, a.type())"
   ]
  },
  {
   "cell_type": "code",
   "execution_count": 36,
   "metadata": {},
   "outputs": [
    {
     "data": {
      "text/plain": [
       "tensor([[1, 0, 0],\n",
       "        [0, 2, 0],\n",
       "        [0, 0, 3]])"
      ]
     },
     "execution_count": 36,
     "metadata": {},
     "output_type": "execute_result"
    }
   ],
   "source": [
    "# Construct a sparse tensor in coordinate format, only store coordinates of non-zero\n",
    "# values to save space\n",
    "# In the example below, 1 is stored at [0,1], 2 at [1,1], and 3 at [2,2]\n",
    "i = torch.tensor([[0, 1, 2], [0, 1, 2]])  # indices of non-zero entry, they are on the diagnal in this case\n",
    "v = torch.tensor([1, 2, 3])\n",
    "b = torch.sparse_coo_tensor(i, v, (3, 3))\n",
    "b.to_dense()"
   ]
  },
  {
   "cell_type": "markdown",
   "metadata": {},
   "source": [
    "## Arithmetic \n",
    "### (mul is elementwise). Note that method end with '_' (e.g., add_(), sub_()) are in-place operation. a.add_(b) is equivalent to a += b"
   ]
  },
  {
   "cell_type": "code",
   "execution_count": 40,
   "metadata": {},
   "outputs": [
    {
     "name": "stdout",
     "output_type": "stream",
     "text": [
      "tensor([1., 4., 9.], dtype=torch.float64)\n",
      "tensor([ 2.7183,  7.3891, 20.0855], dtype=torch.float64)\n",
      "tensor([0.0000, 1.0000, 1.5850], dtype=torch.float64)\n",
      "tensor([0.0000, 0.3010, 0.4771], dtype=torch.float64)\n",
      "tensor([0.0000, 0.6931, 1.0986], dtype=torch.float64)\n",
      "tensor([1.0000, 1.4142, 1.7321], dtype=torch.float64)\n",
      "tensor([2., 3., 4.], dtype=torch.float64)\n",
      "tensor([3., 4., 5.], dtype=torch.float64)\n"
     ]
    }
   ],
   "source": [
    "# a +, -, *, / b == a.add, sub, mul, div(b) == torch.add, sub, mul, div(a, b, \n",
    "a = torch.tensor([1, 2, 3], dtype=float)\n",
    "b = torch.ones_like(a)\n",
    "print(torch.pow(a, 2))  # torch.pow(a, 2) == a.pow(2) == a ** 2 != a.pow_(2)\n",
    "print(torch.exp(a))  # e^a\n",
    "print(torch.log2(a))\n",
    "print(torch.log10(a))\n",
    "print(torch.log(a))  # ln(a)\n",
    "print(torch.sqrt(a))  # a.sqrt()\n",
    "print(a.add_(b))  # a += b\n",
    "print(a + b)"
   ]
  },
  {
   "cell_type": "code",
   "execution_count": 41,
   "metadata": {},
   "outputs": [
    {
     "data": {
      "text/plain": [
       "tensor([[3., 3.],\n",
       "        [3., 3.]])"
      ]
     },
     "execution_count": 41,
     "metadata": {},
     "output_type": "execute_result"
    }
   ],
   "source": [
    "# 2-D matrix operation, note that when matrices have more than 2 dimensions, only the last 2 is dotted\n",
    "A = torch.ones(2, 3)\n",
    "B = torch.ones(3, 2)\n",
    "torch.matmul(A, B)  # torch.mm(A, B) = torch.matmul(A, B) = A @ B"
   ]
  },
  {
   "cell_type": "code",
   "execution_count": 8,
   "metadata": {},
   "outputs": [
    {
     "data": {
      "text/plain": [
       "tensor([[1., 1., 1., 1., 1., 1., 1., 1.],\n",
       "        [1., 1., 1., 1., 1., 1., 1., 1.],\n",
       "        [1., 1., 1., 1., 1., 1., 1., 1.],\n",
       "        [1., 1., 1., 1., 1., 1., 1., 1.]])"
      ]
     },
     "execution_count": 8,
     "metadata": {},
     "output_type": "execute_result"
    }
   ],
   "source": [
    "t1 = torch.cat([tensor, tensor],dim=1)\n",
    "t1"
   ]
  },
  {
   "cell_type": "code",
   "execution_count": 43,
   "metadata": {},
   "outputs": [
    {
     "name": "stdout",
     "output_type": "stream",
     "text": [
      "torch.Size([1, 2, 3, 3])\n"
     ]
    }
   ],
   "source": [
    "# Note that if A or B has more than 2 dimension, only the last 2 dimensions is computed\n",
    "A = torch.ones(1,2,3,4)\n",
    "B = torch.ones(4,3)\n",
    "print(A.matmul(B).shape)"
   ]
  },
  {
   "cell_type": "code",
   "execution_count": 48,
   "metadata": {},
   "outputs": [
    {
     "name": "stdout",
     "output_type": "stream",
     "text": [
      "tensor([[11., 11., 11.],\n",
      "        [11., 11., 11.]])\n",
      "tensor([[1.8131, 1.4617, 1.2926],\n",
      "        [1.8131, 1.4617, 1.2926]])\n",
      "tensor([[[1.4746, 1.1201, 1.2348]],\n",
      "\n",
      "        [[1.5661, 1.2116, 1.3262]]])\n"
     ]
    }
   ],
   "source": [
    "a = torch.ones(2, 3)\n",
    "b = torch.rand(1, 3)\n",
    "print(a + 10)\n",
    "print(a + b)\n",
    "print(torch.rand(2, 1, 1) + torch.rand(3))"
   ]
  },
  {
   "cell_type": "markdown",
   "metadata": {},
   "source": [
    "### Number issues"
   ]
  },
  {
   "cell_type": "code",
   "execution_count": 50,
   "metadata": {},
   "outputs": [
    {
     "name": "stdout",
     "output_type": "stream",
     "text": [
      "Original a: tensor([[2.5497, 2.0306],\n",
      "        [9.9834, 2.7883]])\n",
      "tensor([[2., 2.],\n",
      "        [9., 2.]])\n",
      "tensor([[ 3.,  3.],\n",
      "        [10.,  3.]])\n",
      "tensor([[ 3.,  2.],\n",
      "        [10.,  3.]])\n",
      "tensor([[2., 2.],\n",
      "        [9., 2.]])\n",
      "tensor([[0.5497, 0.0306],\n",
      "        [0.9834, 0.7883]])\n",
      "tensor([[0.5497, 0.0306],\n",
      "        [1.9834, 0.7883]])\n"
     ]
    }
   ],
   "source": [
    "a = torch.rand(2, 2) * 10\n",
    "print(\"Original a:\", a)\n",
    "print(torch.floor(a))\n",
    "print(torch.ceil(a))\n",
    "print(torch.round(a))\n",
    "print(torch.trunc(a))  # Throw decimal part\n",
    "print(torch.frac(a))  # Throw interger part\n",
    "print(a % 2)"
   ]
  },
  {
   "cell_type": "code",
   "execution_count": 57,
   "metadata": {},
   "outputs": [
    {
     "name": "stdout",
     "output_type": "stream",
     "text": [
      "tensor([[True, True, True],\n",
      "        [True, True, True]])\n",
      "tensor([[False, False, False],\n",
      "        [False, False, False]])\n",
      "tensor([[True, True, True],\n",
      "        [True, True, True]])\n",
      "tensor([[False, False, False],\n",
      "        [False, False, False]])\n"
     ]
    }
   ],
   "source": [
    "# Return mask tensor (elementwise)\n",
    "a = torch.rand(2, 3)\n",
    "print(torch.isfinite(a))\n",
    "print(torch.isfinite(a/0))\n",
    "print(torch.isinf(a/0))\n",
    "print(torch.isnan(a))"
   ]
  },
  {
   "cell_type": "markdown",
   "metadata": {},
   "source": [
    "### Comparison"
   ]
  },
  {
   "cell_type": "code",
   "execution_count": 67,
   "metadata": {},
   "outputs": [
    {
     "name": "stdout",
     "output_type": "stream",
     "text": [
      "tensor([[ True, False, False],\n",
      "        [False, False, False]])\n",
      "False\n",
      "tensor([[ True,  True,  True],\n",
      "        [False, False, False]])\n",
      "tensor([[False,  True,  True],\n",
      "        [False, False, False]])\n",
      "tensor([[ True, False, False],\n",
      "        [ True,  True,  True]])\n",
      "tensor([[False, False, False],\n",
      "        [ True,  True,  True]])\n",
      "tensor([[False,  True,  True],\n",
      "        [ True,  True,  True]])\n"
     ]
    }
   ],
   "source": [
    "a = torch.tensor([[1, 3, 5], [2, 4, 6]])\n",
    "b = torch.tensor([[1, 0, 0], [7, 7, 7]])\n",
    "print(torch.eq(a, b))  # return a mask tensor with same shape as input (only compare value)\n",
    "print(torch.equal(a, b))  # return 1 value (compare both value and shape)\n",
    "print(torch.ge(a, b))\n",
    "print(torch.gt(a, b))\n",
    "print(torch.le(a, b))\n",
    "print(torch.lt(a, b))\n",
    "print(torch.ne(a, b))"
   ]
  },
  {
   "cell_type": "code",
   "execution_count": 60,
   "metadata": {},
   "outputs": [
    {
     "data": {
      "text/plain": [
       "tensor([[0.5403, 0.5403, 0.5403],\n",
       "        [0.5403, 0.5403, 0.5403]])"
      ]
     },
     "execution_count": 60,
     "metadata": {},
     "output_type": "execute_result"
    }
   ],
   "source": [
    "# Trigonometric\n",
    "a = torch.ones(2, 3)\n",
    "torch.cos(a)  # sin(), tan(), ..."
   ]
  },
  {
   "cell_type": "code",
   "execution_count": 63,
   "metadata": {},
   "outputs": [
    {
     "name": "stdout",
     "output_type": "stream",
     "text": [
      "tensor([[1., 1., 1.],\n",
      "        [1., 1., 1.]])\n",
      "tensor([[0.7311, 0.7311, 0.7311],\n",
      "        [0.7311, 0.7311, 0.7311]])\n",
      "tensor([[1., 1., 1.],\n",
      "        [1., 1., 1.]])\n"
     ]
    }
   ],
   "source": [
    "# Other mathematical funtions that used frequently\n",
    "print(torch.abs(a))\n",
    "print(torch.sigmoid(a))\n",
    "print(torch.sign(a))"
   ]
  },
  {
   "cell_type": "code",
   "execution_count": 71,
   "metadata": {},
   "outputs": [
    {
     "name": "stdout",
     "output_type": "stream",
     "text": [
      "torch.return_types.sort(\n",
      "values=tensor([[2, 4, 6],\n",
      "        [1, 3, 5]]),\n",
      "indices=tensor([[0, 1, 2],\n",
      "        [2, 1, 0]]))\n",
      "torch.return_types.sort(\n",
      "values=tensor([[2, 3, 1],\n",
      "        [5, 4, 6]]),\n",
      "indices=tensor([[0, 1, 1],\n",
      "        [1, 0, 0]]))\n",
      "torch.return_types.topk(\n",
      "values=tensor([[6],\n",
      "        [5]]),\n",
      "indices=tensor([[2],\n",
      "        [0]]))\n",
      "torch.return_types.kthvalue(\n",
      "values=tensor([2, 3, 1]),\n",
      "indices=tensor([0, 1, 1]))\n",
      "torch.return_types.kthvalue(\n",
      "values=tensor([2, 1]),\n",
      "indices=tensor([0, 2]))\n"
     ]
    }
   ],
   "source": [
    "a = torch.tensor([[2, 4, 6], [5, 3, 1]])\n",
    "print(torch.sort(a, dim=1, descending=False))\n",
    "print(torch.sort(a, dim=0, descending=False))\n",
    "print(torch.topk(a, 1))\n",
    "print(torch.kthvalue(a, k=1, dim=0))\n",
    "print(torch.kthvalue(a, k=1, dim=1))"
   ]
  },
  {
   "cell_type": "markdown",
   "metadata": {},
   "source": [
    "## Statistic"
   ]
  },
  {
   "cell_type": "code",
   "execution_count": 78,
   "metadata": {},
   "outputs": [
    {
     "name": "stdout",
     "output_type": "stream",
     "text": [
      "tensor(3.5000, dtype=torch.float64)\n",
      "tensor(21., dtype=torch.float64)\n",
      "tensor([12.,  9.], dtype=torch.float64)\n",
      "tensor(6., dtype=torch.float64)\n",
      "tensor(720., dtype=torch.float64)\n",
      "tensor(1.8708, dtype=torch.float64)\n",
      "tensor(3.5000, dtype=torch.float64)\n",
      "\n",
      "tensor([1, 0, 0])\n"
     ]
    }
   ],
   "source": [
    "a = torch.tensor([[2, 4, 6], [5, 3, 1]], dtype=float)\n",
    "print(torch.mean(a))\n",
    "print(torch.sum(a))  # argmin(a)\n",
    "print(torch.sum(a, dim=1))\n",
    "print(torch.max(a))  # argmax(a)\n",
    "print(torch.prod(a))  # product\n",
    "print(torch.std(a))\n",
    "print(torch.var(a))\n",
    "# median(), mode(), histc(), bincount()\n",
    "print()\n",
    "print(torch.argmax(a, dim=0))"
   ]
  },
  {
   "cell_type": "code",
   "execution_count": 82,
   "metadata": {},
   "outputs": [
    {
     "data": {
      "text/plain": [
       "tensor([[0.7825, 0.7358]])"
      ]
     },
     "execution_count": 82,
     "metadata": {},
     "output_type": "execute_result"
    }
   ],
   "source": [
    "torch.manual_seed(1)\n",
    "mean = torch.rand(1, 2)\n",
    "std = torch.rand(1, 2)\n",
    "a = torch.normal(mean, std)\n",
    "a"
   ]
  },
  {
   "cell_type": "code",
   "execution_count": 84,
   "metadata": {},
   "outputs": [
    {
     "name": "stdout",
     "output_type": "stream",
     "text": [
      "tensor([[0.6387, 0.5247, 0.6826, 0.3051, 0.4635],\n",
      "        [0.4550, 0.5725, 0.4980, 0.9371, 0.6556]]) tensor([[0.3138, 0.1980, 0.4162, 0.2843, 0.3398],\n",
      "        [0.5239, 0.7981, 0.7718, 0.0112, 0.8100]])\n",
      "tensor(2.7111)\n",
      "tensor(1.1448)\n",
      "tensor(0.9725)\n"
     ]
    }
   ],
   "source": [
    "# Distance measure: widely used in loss function\n",
    "a = torch.rand(2, 5)\n",
    "b = torch.rand(2, 5)\n",
    "print(a, b)\n",
    "print(torch.dist(a, b, p=1))  # abs(a - b)\n",
    "print(torch.dist(a, b, p=2))  # sqrt((a - b)^2)\n",
    "print(torch.dist(a, b, p=3))  # cube_root((a - b)^3)"
   ]
  },
  {
   "cell_type": "code",
   "execution_count": 8,
   "metadata": {},
   "outputs": [
    {
     "data": {
      "text/plain": [
       "tensor([[1., 1., 1., 1., 1., 1., 1., 1.],\n",
       "        [1., 1., 1., 1., 1., 1., 1., 1.],\n",
       "        [1., 1., 1., 1., 1., 1., 1., 1.],\n",
       "        [1., 1., 1., 1., 1., 1., 1., 1.]])"
      ]
     },
     "execution_count": 8,
     "metadata": {},
     "output_type": "execute_result"
    }
   ],
   "source": [
    "t1 = torch.cat([tensor, tensor],dim=1)\n",
    "t1"
   ]
  },
  {
   "cell_type": "code",
   "execution_count": 17,
   "metadata": {},
   "outputs": [
    {
     "name": "stdout",
     "output_type": "stream",
     "text": [
      "tensor([[6., 6., 6., 6.],\n",
      "        [6., 6., 6., 6.],\n",
      "        [6., 6., 6., 6.],\n",
      "        [6., 6., 6., 6.]])\n",
      "[[6. 6. 6. 6.]\n",
      " [6. 6. 6. 6.]\n",
      " [6. 6. 6. 6.]\n",
      " [6. 6. 6. 6.]]\n",
      "tensor([[6., 6., 6., 6.],\n",
      "        [6., 6., 6., 6.],\n",
      "        [6., 6., 6., 6.],\n",
      "        [6., 6., 6., 6.]])\n"
     ]
    }
   ],
   "source": [
    "# Bridge with numpy\n",
    "print(tensor)\n",
    "print(tensor.numpy())\n",
    "print(torch.from_numpy(tensor.numpy()))"
   ]
  },
  {
   "cell_type": "code",
   "execution_count": null,
   "metadata": {},
   "outputs": [],
   "source": []
  }
 ],
 "metadata": {
  "kernelspec": {
   "display_name": "Python 3",
   "language": "python",
   "name": "python3"
  },
  "language_info": {
   "codemirror_mode": {
    "name": "ipython",
    "version": 3
   },
   "file_extension": ".py",
   "mimetype": "text/x-python",
   "name": "python",
   "nbconvert_exporter": "python",
   "pygments_lexer": "ipython3",
   "version": "3.7.6"
  }
 },
 "nbformat": 4,
 "nbformat_minor": 4
}
