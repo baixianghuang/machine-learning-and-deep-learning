{
 "cells": [
  {
   "cell_type": "markdown",
   "metadata": {},
   "source": [
    "## towardsdatascience.com/understanding-pytorch-with-an-example-a-step-by-step-tutorial"
   ]
  },
  {
   "cell_type": "code",
   "execution_count": 17,
   "metadata": {},
   "outputs": [],
   "source": [
    "import torch\n",
    "import numpy as np\n",
    "import torchvision"
   ]
  },
  {
   "cell_type": "code",
   "execution_count": 18,
   "metadata": {},
   "outputs": [
    {
     "name": "stdout",
     "output_type": "stream",
     "text": [
      "[0.49671415] [-0.1382643]\n",
      "[1.02354094] [1.96896411]\n",
      "[1.02354075] [1.96896447]\n"
     ]
    }
   ],
   "source": [
    "# Linear regresssion using mini-batch\n",
    "np.random.seed(42)\n",
    "x = np.random.rand(100, 1)\n",
    "y = 1 + 2 * x + .1 * np.random.randn(100, 1)\n",
    "# Shuffles the indices\n",
    "idx = np.arange(100)\n",
    "np.random.shuffle(idx)\n",
    "# Uses first 80 random indices for train\n",
    "train_idx = idx[:80]\n",
    "# Uses the remaining indices for validation\n",
    "val_idx = idx[80:]\n",
    "# Generates train and validation sets\n",
    "x_train, y_train = x[train_idx], y[train_idx]\n",
    "x_val, y_val = x[val_idx], y[val_idx]\n",
    "\n",
    "# Initialize variable randomly\n",
    "np.random.seed(42)\n",
    "a = np.random.randn(1)\n",
    "b = np.random.randn(1)\n",
    "print(a, b)\n",
    "\n",
    "lr = 1e-1\n",
    "num_epochs = 1000\n",
    "\n",
    "for epoch in range(num_epochs):\n",
    "    # 1. Compute prediction\n",
    "    y_hat = b * x_train + a\n",
    "    \n",
    "    # 2. Compute loss (MSE)\n",
    "    error = (y_train - y_hat)  # use np.abs() why incorrect?\n",
    "    loss = (error ** 2).mean()\n",
    "    \n",
    "    # 3. Compute gradient\n",
    "    a_grad = -2 * error.mean()\n",
    "    b_grad = -2 * (x_train * error).mean()\n",
    "    \n",
    "    # 4. Update parameters\n",
    "    a -= lr * a_grad\n",
    "    b -= lr * b_grad\n",
    "\n",
    "print(a, b)\n",
    "\n",
    "from sklearn.linear_model import LinearRegression\n",
    "linr = LinearRegression()\n",
    "linr.fit(x_train, y_train)\n",
    "print(linr.intercept_, linr.coef_[0])"
   ]
  },
  {
   "cell_type": "code",
   "execution_count": null,
   "metadata": {},
   "outputs": [],
   "source": []
  },
  {
   "cell_type": "code",
   "execution_count": 19,
   "metadata": {},
   "outputs": [
    {
     "name": "stdout",
     "output_type": "stream",
     "text": [
      "<class 'numpy.ndarray'> <class 'torch.Tensor'> torch.FloatTensor\n"
     ]
    }
   ],
   "source": [
    "import torch.optim as optim\n",
    "import torch.nn as nn\n",
    "\n",
    "device = torch.device(\"cuda:0\" if torch.cuda.is_available() else \"cpu\")\n",
    "\n",
    "x_train_tensor = torch.from_numpy(x_train).float().to(device)\n",
    "y_train_tensor = torch.from_numpy(y_train).float().to(device)\n",
    "print(type(x_train), type(x_train_tensor), x_train_tensor.type())"
   ]
  },
  {
   "cell_type": "code",
   "execution_count": 20,
   "metadata": {},
   "outputs": [
    {
     "name": "stdout",
     "output_type": "stream",
     "text": [
      "tensor([0.6727], requires_grad=True) tensor([-2.0333], requires_grad=True)\n",
      "tensor([0.3367], requires_grad=True) tensor([0.1288], requires_grad=True)\n"
     ]
    }
   ],
   "source": [
    "# Think: What distinguishes a tensor used for data from a tensor \n",
    "# used as a (trainable) parameter/weight?\n",
    "\n",
    "# Note that .to(device) shadow the gradient\n",
    "# a = torch.randn(1, requires_grad=True, dtype=torch.float).to(device)\n",
    "# b = torch.randn(1, requires_grad=True, dtype=torch.float).to(device)\n",
    "\n",
    "# Instead, to create GPU tensors, using the order below\n",
    "a = torch.randn(1, dtype=torch.float).to(device)\n",
    "b = torch.randn(1, dtype=torch.float).to(device)\n",
    "a.requires_grad_()\n",
    "b.requires_grad_()\n",
    "print(a, b)\n",
    "\n",
    "# Or use the method below\n",
    "torch.manual_seed(42)\n",
    "a = torch.randn(1, requires_grad=True, dtype=torch.float, device=device)\n",
    "b = torch.randn(1, requires_grad=True, dtype=torch.float, device=device)\n",
    "print(a, b)"
   ]
  },
  {
   "cell_type": "markdown",
   "metadata": {},
   "source": [
    "### Linear regression using PyTorch"
   ]
  },
  {
   "cell_type": "code",
   "execution_count": 21,
   "metadata": {},
   "outputs": [
    {
     "name": "stdout",
     "output_type": "stream",
     "text": [
      "tensor([0.3367], requires_grad=True) tensor([0.1288], requires_grad=True)\n",
      "tensor([1.0235], requires_grad=True) tensor([1.9690], requires_grad=True)\n",
      "[1.02354075] [1.96896447]\n"
     ]
    }
   ],
   "source": [
    "# Note: gradients are accumulated. So, every time we use the gradients to update \n",
    "# the parameters, we need to zero the gradients afterwards. \n",
    "# And that’s what zero_() is good for.\n",
    "\n",
    "torch.manual_seed(42)\n",
    "a = torch.randn(1, requires_grad=True, dtype=torch.float, device=device)\n",
    "b = torch.randn(1, requires_grad=True, dtype=torch.float, device=device)\n",
    "print(a, b)\n",
    "\n",
    "lr = 1e-1\n",
    "num_epochs = 1000\n",
    "\n",
    "optimizer = torch.optim.SGD([a, b], lr=lr)\n",
    "loss_fn = nn.MSELoss(reduction='mean')\n",
    "\n",
    "for epoch in range(num_epochs):\n",
    "    # 1. Compute prediction\n",
    "    y_hat = a + b * x_train_tensor\n",
    "    # 2. Compute loss (MSE)\n",
    "#     error = y_train_tensor - y_hat\n",
    "#     loss = (error ** 2).mean()\n",
    "    loss = loss_fn(y_train_tensor, y_hat)\n",
    "    \n",
    "    # 3. Compute gradient: backward() automatically compute the gradients of a and b\n",
    "#     a_grad = -2 * error.mean()\n",
    "#     b_grad = -2 * (x_train * error).mean()\n",
    "    loss.backward()\n",
    "    \n",
    "    # 4-1. Update parameters manually\n",
    "#     with torch.no_grad():\n",
    "#         a -= lr * a.grad\n",
    "#         b -= lr * b.grad\n",
    "#     a.grad.zero_()\n",
    "#     b.grad.zero_()\n",
    "    # 4-2. Update parameters automatically using the optimizer\n",
    "    optimizer.step()\n",
    "    optimizer.zero_grad()  # Don't forget this\n",
    "    \n",
    "print(a, b)\n",
    "    \n",
    "from sklearn.linear_model import LinearRegression\n",
    "linr = LinearRegression()\n",
    "linr.fit(x_train, y_train)\n",
    "print(linr.intercept_, linr.coef_[0])"
   ]
  },
  {
   "cell_type": "code",
   "execution_count": 22,
   "metadata": {},
   "outputs": [
    {
     "name": "stdout",
     "output_type": "stream",
     "text": [
      "OrderedDict([('a', tensor([0.3367])), ('b', tensor([0.1288]))])\n",
      "OrderedDict([('a', tensor([1.0235])), ('b', tensor([1.9690]))])\n"
     ]
    }
   ],
   "source": [
    "# Build a simple model of PyTorch version of linear regression\n",
    "    \n",
    "class ManualLinearRegression(nn.Module):\n",
    "    def __init__(self):\n",
    "        super().__init__()\n",
    "        self.a = nn.Parameter(torch.randn(1, dtype=torch.float, requires_grad=True))\n",
    "        self.b = nn.Parameter(torch.randn(1, dtype=torch.float, requires_grad=True))\n",
    "        \n",
    "    def forward(self, x):\n",
    "        return self.a + self.b * x\n",
    "\n",
    "    \n",
    "torch.manual_seed(42)\n",
    "\n",
    "model = ManualLinearRegression().to(device)\n",
    "print(model.state_dict())\n",
    "\n",
    "# Note that only variables defined as self.v are inclued in model.parameters()\n",
    "optimizer = torch.optim.SGD(model.parameters(), lr=lr)\n",
    "\n",
    "for epoch in range(1000):\n",
    "    # Set the model to trainning mode instead of perform any trainning\n",
    "    model.train()\n",
    "    y_hat = model(x_train_tensor)\n",
    "    \n",
    "    loss = loss_fn(y_train_tensor, y_hat)\n",
    "    loss.backward()\n",
    "    \n",
    "    optimizer.step()\n",
    "    optimizer.zero_grad()\n",
    "print(model.state_dict())"
   ]
  },
  {
   "cell_type": "code",
   "execution_count": 23,
   "metadata": {},
   "outputs": [],
   "source": [
    "class LayerLinearRegression(nn.Module):\n",
    "    def __init__(self):\n",
    "        super().__init__()\n",
    "        # Instead of our custom parameters, we use a Linear layer with single input\n",
    "        # and single output\n",
    "        self.linear = nn.Linear(1, 1)\n",
    "                \n",
    "    def forward(self, x):\n",
    "        # Now it only takes a call to the layer to make predictions\n",
    "        return self.linear(x)"
   ]
  },
  {
   "cell_type": "code",
   "execution_count": 24,
   "metadata": {},
   "outputs": [
    {
     "data": {
      "text/plain": [
       "[Parameter containing:\n",
       " tensor([[-0.2191]], requires_grad=True),\n",
       " Parameter containing:\n",
       " tensor([0.2018], requires_grad=True)]"
      ]
     },
     "execution_count": 24,
     "metadata": {},
     "output_type": "execute_result"
    }
   ],
   "source": [
    "[*LayerLinearRegression().parameters()]"
   ]
  },
  {
   "cell_type": "code",
   "execution_count": 25,
   "metadata": {},
   "outputs": [
    {
     "name": "stdout",
     "output_type": "stream",
     "text": [
      "OrderedDict([('a', tensor([1.0236])), ('b', tensor([1.9690]))])\n"
     ]
    },
    {
     "data": {
      "text/plain": [
       "[<matplotlib.lines.Line2D at 0x7fbb37ee4490>]"
      ]
     },
     "execution_count": 25,
     "metadata": {},
     "output_type": "execute_result"
    },
    {
     "data": {
      "image/png": "[encoded data removed]",
      "text/plain": [
       "<Figure size 432x288 with 1 Axes>"
      ]
     },
     "metadata": {
      "needs_background": "light"
     },
     "output_type": "display_data"
    }
   ],
   "source": [
    "import matplotlib.pyplot as plt\n",
    "# Combining procedures in a training lopp\n",
    "\n",
    "optimizer = torch.optim.Adam(model.parameters(), lr=lr)\n",
    "\n",
    "def make_train_step(model, loss_fn, optimizer):\n",
    "    def train_step(x, y):\n",
    "        model.train()\n",
    "        y_hat = model(x)\n",
    "\n",
    "        loss = loss_fn(y, y_hat)\n",
    "        loss.backward()\n",
    "\n",
    "        optimizer.step()\n",
    "        optimizer.zero_grad()\n",
    "        return loss.item()\n",
    "    return train_step\n",
    "\n",
    "train_step = make_train_step(model, loss_fn, optimizer)\n",
    "loss_ls = []\n",
    "\n",
    "for epoch in range(1000):\n",
    "    loss = train_step(x_train_tensor, y_train_tensor)\n",
    "    loss_ls.append(loss)\n",
    "\n",
    "print(model.state_dict())\n",
    "plt.plot(loss_ls)"
   ]
  },
  {
   "cell_type": "markdown",
   "metadata": {},
   "source": [
    "## PyTorch Dataset class\n",
    "### To use mini-batch conveniently, we use DataLoader(), and we wraps data into a class to do so. Loading a batch of data to device also saves RAM."
   ]
  },
  {
   "cell_type": "code",
   "execution_count": 26,
   "metadata": {},
   "outputs": [
    {
     "name": "stdout",
     "output_type": "stream",
     "text": [
      "(tensor([0.7713]), tensor([2.4745]))\n",
      "(tensor([0.7713]), tensor([2.4745]))\n"
     ]
    }
   ],
   "source": [
    "# You can think of it as a kind of a Python list of tuples, \n",
    "# each tuple corresponding to one point (features, label).\n",
    "\n",
    "from torch.utils.data import Dataset, TensorDataset\n",
    "\n",
    "class CustomDataset(Dataset):\n",
    "    def __init__(self, x_tensor, y_tensor):\n",
    "        self.x = x_tensor\n",
    "        self.y = y_tensor\n",
    "        \n",
    "    def __getitem__(self, index):\n",
    "        return (self.x[index], self.y[index])\n",
    "    \n",
    "    def __len__(self):\n",
    "        return len(self.x)\n",
    "    \n",
    "x_train_tensor = torch.from_numpy(x_train).float()\n",
    "y_train_tensor = torch.from_numpy(y_train).float()      \n",
    "\n",
    "train_data = CustomDataset(x_train_tensor, y_train_tensor)\n",
    "print(train_data[0])\n",
    "\n",
    "train_data = TensorDataset(x_train_tensor, y_train_tensor)\n",
    "print(train_data[0])"
   ]
  },
  {
   "cell_type": "code",
   "execution_count": 27,
   "metadata": {},
   "outputs": [
    {
     "name": "stdout",
     "output_type": "stream",
     "text": [
      "OrderedDict([('a', tensor([1.0363])), ('b', tensor([1.9746]))])\n"
     ]
    }
   ],
   "source": [
    "from torch.utils.data import DataLoader\n",
    "\n",
    "train_step = make_train_step(model, loss_fn, optimizer)\n",
    "loss_ls = []\n",
    "\n",
    "train_loader = DataLoader(dataset=train_data, batch_size=16, shuffle=True)\n",
    "\n",
    "for epoch in range(1000):\n",
    "    for x_batch, y_batch in train_loader:\n",
    "        x_batch = x_batch.to(device)\n",
    "        y_batch = y_batch.to(device)\n",
    "        loss = train_step(x_batch, y_batch)\n",
    "        loss_ls.append(loss)\n",
    "\n",
    "print(model.state_dict())"
   ]
  },
  {
   "cell_type": "code",
   "execution_count": 28,
   "metadata": {},
   "outputs": [],
   "source": [
    "from torch.utils.data.dataset import random_split\n",
    "\n",
    "np.random.seed(42)\n",
    "x = np.random.rand(100, 1)\n",
    "y = 1 + 2 * x + .1 * np.random.randn(100, 1)\n",
    "\n",
    "x_tensor = torch.from_numpy(x).float()\n",
    "y_tensor = torch.from_numpy(y).float()\n",
    "\n",
    "dataset = TensorDataset(x_tensor, y_tensor)\n",
    "\n",
    "train_dataset, val_dataset = random_split(dataset, [80, 20])\n",
    "\n",
    "train_loader = DataLoader(dataset=train_dataset, batch_size=16)\n",
    "val_loader = DataLoader(dataset=val_dataset, batch_size=20)"
   ]
  },
  {
   "cell_type": "markdown",
   "metadata": {},
   "source": [
    "## Evaluation"
   ]
  },
  {
   "cell_type": "code",
   "execution_count": 29,
   "metadata": {},
   "outputs": [
    {
     "name": "stdout",
     "output_type": "stream",
     "text": [
      "OrderedDict([('a', tensor([1.0192])), ('b', tensor([1.9499]))])\n",
      "0.009362733662128449\n",
      "0.005277187158353627\n"
     ]
    }
   ],
   "source": [
    "# Compute validation loss while trainning\n",
    "\n",
    "train_step = make_train_step(model, loss_fn, optimizer)\n",
    "loss_ls = []\n",
    "loss_val_ls = []\n",
    "\n",
    "for epoch in range(100):\n",
    "    for x_batch, y_batch in train_loader:\n",
    "        x_batch = x_batch.to(device)\n",
    "        y_batch = y_batch.to(device)\n",
    "        loss = train_step(x_batch, y_batch)\n",
    "        loss_ls.append(loss)\n",
    "    \n",
    "    # NOTE: it is a good practice to wrap the validation inner loop with this context \n",
    "    # manager to disable any gradient calculation that you may inadvertently trigger \n",
    "    with torch.no_grad():\n",
    "        for x_batch_val, y_batch_val in val_loader:\n",
    "            x_batch_val = x_batch_val.to(device)\n",
    "            y_batch_val = y_batch_val.to(device)\n",
    "            \n",
    "            # NOTE: change the model from train to evaluation mode\n",
    "            model.eval()\n",
    "            y_hat = model(x_batch_val)\n",
    "            loss_val = loss_fn(y_batch_val, y_hat)\n",
    "            loss_val_ls.append(loss_val.item())\n",
    "\n",
    "print(model.state_dict())\n",
    "print(np.mean(loss_ls))\n",
    "print(np.mean(loss_val_ls))"
   ]
  },
  {
   "cell_type": "code",
   "execution_count": 30,
   "metadata": {},
   "outputs": [
    {
     "data": {
      "text/plain": [
       "[<matplotlib.lines.Line2D at 0x7fbb37fb9d50>]"
      ]
     },
     "execution_count": 30,
     "metadata": {},
     "output_type": "execute_result"
    },
    {
     "data": {
      "image/png": "[encoded data removed]",
      "text/plain": [
       "<Figure size 432x288 with 1 Axes>"
      ]
     },
     "metadata": {
      "needs_background": "light"
     },
     "output_type": "display_data"
    }
   ],
   "source": [
    "plt.plot(loss_val_ls)"
   ]
  },
  {
   "cell_type": "code",
   "execution_count": 31,
   "metadata": {},
   "outputs": [
    {
     "data": {
      "text/plain": [
       "[<matplotlib.lines.Line2D at 0x7fbb388a1990>]"
      ]
     },
     "execution_count": 31,
     "metadata": {},
     "output_type": "execute_result"
    },
    {
     "data": {
      "image/png": "[encoded data removed]",
      "text/plain": [
       "<Figure size 432x288 with 1 Axes>"
      ]
     },
     "metadata": {
      "needs_background": "light"
     },
     "output_type": "display_data"
    }
   ],
   "source": [
    "plt.plot(loss_ls)"
   ]
  },
  {
   "cell_type": "code",
   "execution_count": null,
   "metadata": {},
   "outputs": [],
   "source": []
  }
 ],
 "metadata": {
  "kernelspec": {
   "display_name": "Python 3",
   "language": "python",
   "name": "python3"
  },
  "language_info": {
   "codemirror_mode": {
    "name": "ipython",
    "version": 3
   },
   "file_extension": ".py",
   "mimetype": "text/x-python",
   "name": "python",
   "nbconvert_exporter": "python",
   "pygments_lexer": "ipython3",
   "version": "3.7.6"
  }
 },
 "nbformat": 4,
 "nbformat_minor": 4
}
